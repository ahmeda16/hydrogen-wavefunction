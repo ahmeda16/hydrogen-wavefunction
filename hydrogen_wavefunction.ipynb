{
 "cells": [
  {
   "cell_type": "markdown",
   "metadata": {},
   "source": [
    "# The Hydrogen Wavefunction & Electron Density Cloud Plot\n",
    "### Execution of File\n",
    "Execution is done through the Python terminal by entering your quantum numbers with set restrictions stated below as well,\n",
    "\n",
    "<div align=\"center\">\n",
    "  \n",
    "| Quantum Number | Limitations                                 |\n",
    "| -------------- | ------------------------------------------- |\n",
    "| $$n$$          | $$n \\geq  1$$                               |\n",
    "| $$ℓ$$          | $$0 \\leq  l \\lt  n$$                        |\n",
    "| $$m_ℓ$$        | $$-ℓ \\leq m_ℓ \\leq ℓ$$                      |\n",
    "\n",
    "</div>\n",
    "\n",
    "After execution, a 3D interactable figure will pop up via Matplotlib and will save a .png file within the respective Python file directory where ever that may be on your device. If the Wavefunction Plot is not within the bounds, try adjusting the Global Constants to a larger value by an addition of 500 for both. This portion is not automated, but will be in the future.\n",
    "\n",
    "Figure examples are shown below for: $n = 2, l = 1, m_ℓ = 1$\n",
    "\n",
    "<div align=\"center\">\n",
    "  <h3> Real Hydrogen Wavefunction </h3>\n",
    "  <img src=\"Example_211_Real.png\" />\n",
    "  \n",
    "  <h3> Complex Hydrogen Wavefunction </h3>\n",
    "  <img src=\"Example_211_Complex.png\" />\n",
    "\n",
    "  <h3> Probability Density of Hydrogen Wavefunction </h3>\n",
    "  <img src=\"Example_211_Probability_Density.png\" />\n",
    "</div>\n",
    "\n",
    "For the different Python libraries, they are stated below along with the following exact import lines,\n",
    "\n",
    "* Math (Internal)\n",
    "* NumPY (1.24.3)\n",
    "* SciPY (1.11.2)\n",
    "* Matplotlib (3.7.2)"
   ]
  },
  {
   "cell_type": "code",
   "execution_count": 1,
   "metadata": {},
   "outputs": [],
   "source": [
    "import numpy as np\n",
    "import scipy as sp\n",
    "from matplotlib import pyplot as plt\n",
    "from mpl_toolkits.mplot3d import Axes3D"
   ]
  },
  {
   "cell_type": "markdown",
   "metadata": {},
   "source": [
    "Following the imports, we will go through the different functions as they are portions of the total wavefunction equation.\n",
    "\n",
    "$$\\psi_{(n,ℓ,m_ℓ)} = R_{n,ℓ}(r)\\times Y_{ℓ,m_ℓ}(\\theta,\\phi)$$\n",
    "\n",
    "By setting a linear space for $(x,y,z)$ later on along with a meshgrid for our plot, we can start assuming these terms already exist by having $(r, \\theta, \\phi)$ as numpy arrays in the future. For a consistent plot, $np.linspace$ will require the extent of the plot and the number of points which we will declare as adjustable constants."
   ]
  },
  {
   "cell_type": "code",
   "execution_count": null,
   "metadata": {},
   "outputs": [],
   "source": [
    "n =  int(input('Enter an n Quantum Number: '))\n",
    "l = int(input('Enter an l Quantum Number: '))\n",
    "ml = int(input('Enter an ml Quantum Number: '))\n",
    "\n",
    "#GLOBAL CONSTANTS (ADJUST IF NECESSARY)\n",
    "num_points = 680\n",
    "extent = 480"
   ]
  },
  {
   "cell_type": "markdown",
   "metadata": {},
   "source": [
    "\n",
    "The Radial Contribution function is set as $R_{n,ℓ}(r)$ within the equation which is equivalent to,\n",
    "\n",
    "$$R_{(n,ℓ)}(r) = \\sqrt{\\left(\\frac{2}{na_0}\\right)^{3}\\frac{(n-ℓ-1)!}{2n(n+1)!}}\\left(\\frac{2r}{na_0}\\right)^{ℓ} L_{n-ℓ-1}^{2ℓ+1}\\left(\\frac{2r}{na_0}\\right)e^{-\\frac{r}{na_0}}$$\n",
    "\n",
    "\n",
    "The following function within the Python script is,"
   ]
  },
  {
   "cell_type": "code",
   "execution_count": 2,
   "metadata": {},
   "outputs": [],
   "source": [
    "# Computes the Radial Contribution of the Wavefunction Using Exponential Decay, Laguerre Polynomials, and Power Term\n",
    "#\n",
    "# Arguments: (int) n - Principal Quantum Number, the energy level or shell. (r in spherical coordinates)\n",
    "#            (int) l - Angular Momentum Quantum Number, the subshell or angular dependence of the orbital. (Θ in spherical coordinates)\n",
    "#            (numpy array) r - Variable Radius Coordinate for plot\n",
    "#            \n",
    "# Output: (numpy array) of the radial contribution to the wavefunction\n",
    "def radial_Contribution(n, l, r):\n",
    "    \n",
    "    e = np.e\n",
    "    a0 = sp.constants.physical_constants[\"Bohr radius\"][0] * 1e+12\n",
    "    z = 2 / (n * a0)\n",
    "\n",
    "    squareRootTerm = np.sqrt(\n",
    "                            (z ** 3) *\n",
    "                            ((np.math.factorial(n - l - 1)) / (2 * n * (np.math.factorial(n + l))))\n",
    "                            )\n",
    "    \n",
    "    powerOfLTerm = (z * r) ** l\n",
    "\n",
    "    laguerreTerm = sp.special.genlaguerre((n - l - 1), (2 * l + 1))\n",
    "\n",
    "    decayTerm = e**((-1)*((z * r) / 2))\n",
    "\n",
    "    return squareRootTerm * powerOfLTerm * laguerreTerm(z * r) * decayTerm"
   ]
  },
  {
   "cell_type": "markdown",
   "metadata": {},
   "source": [
    "This will return the Radial Contribution of the wavefunction for each $(r)$ value."
   ]
  },
  {
   "cell_type": "markdown",
   "metadata": {},
   "source": [
    "\n",
    "The Angular Contribution function is set as $Y_{ℓ}^{m_ℓ}(θ,ϕ)$ within the equation which is equivalent to,\n",
    "\n",
    "$$Y_{ℓ}^{m_ℓ}(θ,ϕ) = (-1)^{m_ℓ} \\sqrt{\\left(\\frac{2ℓ+1}{4π}\\right)\\frac{(ℓ-m_ℓ)!}{(ℓ+m_ℓ)!}}P_{ℓ}^{m_ℓ}(cos(θ))e^{im_ℓϕ}$$\n",
    "\n",
    "\n",
    "The following function within the Python script is,"
   ]
  },
  {
   "cell_type": "code",
   "execution_count": null,
   "metadata": {},
   "outputs": [],
   "source": [
    "# Computes the Angular Contribution of the Wavefunction Using Exponential Decay, Legendre Polynomials, and Power Term\n",
    "#\n",
    "# Arguments: (int) l - Angular Momentum Quantum Number, the subshell or angular dependence of the orbital. (Θ in spherical coordinates)\n",
    "#            (int) ml - Magnetic Quantum Number, the orientation in space of an orbital (ϕ in spherical coordinates)\n",
    "#            (numpy array) theta - Variable Polar Angle Coordinate for plot\n",
    "#            (numpy array) phi - Variable Azimuth Angle Coordinate for plot\n",
    "#           \n",
    "# Output: (numpy array) of the angular contribution (spherical harmonics) of the wavefunction\n",
    "def angular_Contribution(l, ml, theta, phi):\n",
    "\n",
    "    e = np.e\n",
    "    pi = np.pi\n",
    "\n",
    "    negPosTerm = (-1)**ml\n",
    "\n",
    "    #Needed to ensure calculation for -l\n",
    "    absML = np.abs(ml)\n",
    "    sqaureRootTerm = np.sqrt(\n",
    "                            (((2 * l) + 1)/(4 * pi)) *\n",
    "                            ((np.math.factorial(l - absML))/(np.math.factorial(l + absML)))\n",
    "                            )\n",
    "    \n",
    "    legendreTerm = sp.special.lpmv(ml, l, np.cos(theta))\n",
    "\n",
    "    decayTerm = np.exp(1.j * ml * phi)\n",
    "\n",
    "    return negPosTerm * sqaureRootTerm * legendreTerm * decayTerm"
   ]
  },
  {
   "cell_type": "markdown",
   "metadata": {},
   "source": [
    "This will return the Radial Contribution of the wavefunction for each $(\\theta, \\phi)$ value being of complex nature."
   ]
  },
  {
   "cell_type": "markdown",
   "metadata": {},
   "source": [
    "Computing the Wavefunction by following, \n",
    "$$\\psi_{(n,ℓ,m_ℓ)} = R_{n,ℓ}(r)\\times Y_{ℓ,m_ℓ}(\\theta,\\phi)$$\n",
    "\n",
    "requires error checking for the quantum numbers along with setting our $np.linspace$ as previously mentioned for $(x,y,z)$ and converting them to their respective spherical coordinate by the following translations, \n",
    "$$r,ρ = \\sqrt{x^2 + y^2 + z^2}$$\n",
    "$$\\theta = \\arctan{\\frac{y}{x}}$$\n",
    "$$\\phi = \\arccos{\\frac{z}{\\sqrt{x^2 + y^2 + z^2}}}$$"
   ]
  },
  {
   "cell_type": "markdown",
   "metadata": {},
   "source": [
    "The resulting function is as follows,"
   ]
  },
  {
   "cell_type": "code",
   "execution_count": null,
   "metadata": {},
   "outputs": [],
   "source": [
    "# Computes the total complex wavefunction from the calculated angular_Contribution and radial_Contribution\n",
    "#\n",
    "# Arguments: (int) n - Principal Quantum Number, the energy level or shell. (r in spherical coordinates)\n",
    "#            (int) l - Angular Momentum Quantum Number, the subshell or angular dependence of the orbital. (Θ in spherical coordinates) \n",
    "#            (int) ml - Magnetic Quantum Number, the orientation in space of an orbital (ϕ in spherical coordinates)\n",
    "#            **IMPORTANT, with converting r, theta, phi to their respective cartesian coordinates. We must consider all possible values of r, Θ, ϕ.\n",
    "#            *Note, x,y,z linspaces are set from the global constants\n",
    "#          \n",
    "# Output: COMPLEX (numpy array) of the total wavefunction\n",
    "def complex_Wave_Function(n, l, ml):     \n",
    "\n",
    "    if (not isinstance(n, int)) or (n < 1):\n",
    "        raise ValueError('Quantum Number Error: n shall be part of the Natural Set (n >= 1)')\n",
    "\n",
    "    if (not isinstance(l, int)) or not (0 <= l < n):\n",
    "        raise ValueError('Quantum Number Error: l shall be part of the Positive Integer Set and Satisfy (0 <= l < n)')\n",
    "    \n",
    "    if (not isinstance(ml, int)) or not (-l <= ml <= l):\n",
    "        raise ValueError('Quantum Number Error: ml shall be part of the Integer Set and Satisfy (-l <= ml <= l)')\n",
    "\n",
    "    pi = np.pi\n",
    "\n",
    "    x = y = z = np.linspace(-extent, extent, num_points)\n",
    "    x, y = np.meshgrid(x, y)\n",
    "\n",
    "    magnitude = np.sqrt((x ** 2) + (y ** 2) + (z ** 2))\n",
    "    r = magnitude\n",
    "    theta = np.arctan(y / x)\n",
    "    phi = np.arccos(z / magnitude)\n",
    "\n",
    "    radial = radial_Contribution(n, l, r)\n",
    "    angular = angular_Contribution(l, ml, theta, phi)\n",
    "\n",
    "    psi = radial * angular\n",
    "    \n",
    "    return psi"
   ]
  },
  {
   "cell_type": "markdown",
   "metadata": {},
   "source": [
    "This will return the total complex wavefunction for each $(r, \\theta, \\phi)$."
   ]
  },
  {
   "cell_type": "markdown",
   "metadata": {},
   "source": [
    "Determining the probability density function $P(r,\\theta,\\phi)$ is followed by a seperate simple equation as stated below, \n",
    "\n",
    "$$P(r,\\theta,\\phi) = |\\psi_{(n,ℓ,m_ℓ)}(r,\\theta,\\phi)|^2$$"
   ]
  },
  {
   "cell_type": "markdown",
   "metadata": {},
   "source": [
    "which follows a fairly simple function return stated as, "
   ]
  },
  {
   "cell_type": "code",
   "execution_count": null,
   "metadata": {},
   "outputs": [],
   "source": [
    "# Computes the probability density of any given wavefunction set as z for future plot\n",
    "#\n",
    "# Arguments: (numpy array) psi - A COMPLEX numpy array describing the total wavefunction  \n",
    "# \n",
    "# Output: REAL (numpy array) of the probability density\n",
    "def probability_Density(psi):\n",
    "\n",
    "    return (np.abs(psi) ** 2)"
   ]
  },
  {
   "cell_type": "markdown",
   "metadata": {},
   "source": [
    "Now following the main plot of any given function was to interpret the function value ($(\\psi)$ in this case) as our main $(z)$ points for a consistent set of $(x)$ and $(y)$.\n",
    "\n",
    "Along with using an external input of the plot title for pretty printing, we can save these plots as different file names and give them different titles by a neat trick!"
   ]
  },
  {
   "cell_type": "code",
   "execution_count": null,
   "metadata": {},
   "outputs": [],
   "source": [
    "# Plots any given REAL function including probability density P on a 3D contour graph\n",
    "#\n",
    "# Arguments: (numpy array) P - A REAL numpy array describing the total function  \n",
    "#            (string) text - A title formatter for Real, Complex, or Probability Density Plot\n",
    "# \n",
    "# Output: A final plot of the given function\n",
    "def main_Plot_Wavefunction(P, text):\n",
    "\n",
    "    x = y = np.linspace(-extent, extent, num_points)\n",
    "    x, y = np.meshgrid(x, y)\n",
    "    z = P\n",
    "\n",
    "    fig = plt.figure()\n",
    "    ax = plt.axes(projection = '3d')\n",
    "    plt.title(\"Hydrogen Wavefunction \" + text + \"$ \\psi_{(n,ℓ,m_ℓ)}$\")\n",
    "    ax.set_xlabel('$x$', fontsize=20, rotation=150)\n",
    "    ax.set_ylabel('$y$', fontsize=20, rotation=0)\n",
    "    ax.set_zlabel('$\\psi_{(n,ℓ,m_ℓ)}$', fontsize=20, rotation=150)\n",
    "    \n",
    "    ax.contour(x, y, z, 50, cmap='magma')\n",
    "\n",
    "    plt.savefig(f'({n},{l},{ml})[{text}].png')\n",
    "    plt.show()"
   ]
  },
  {
   "cell_type": "markdown",
   "metadata": {},
   "source": [
    "Now with all our functions set, we use the following function calls stated as, "
   ]
  },
  {
   "cell_type": "code",
   "execution_count": null,
   "metadata": {},
   "outputs": [],
   "source": [
    "#Real Plot\n",
    "main_Plot_Wavefunction(np.real(complex_Wave_Function(n, l, ml)), 'Real')\n",
    "\n",
    "#Complex Plot\n",
    "main_Plot_Wavefunction(np.imag(complex_Wave_Function(n, l, ml)), 'Complex')\n",
    "\n",
    "#Probability Density Plot\n",
    "main_Plot_Wavefunction(probability_Density(complex_Wave_Function(n, l, ml)), 'Probability Density')"
   ]
  },
  {
   "cell_type": "markdown",
   "metadata": {},
   "source": [
    "and input our Quantum Number Values following the restrictions and boundary conditions resulting our Matplotlib 3D contour plot and some new saved figures."
   ]
  }
 ],
 "metadata": {
  "kernelspec": {
   "display_name": "Python 3",
   "language": "python",
   "name": "python3"
  },
  "language_info": {
   "codemirror_mode": {
    "name": "ipython",
    "version": 3
   },
   "file_extension": ".py",
   "mimetype": "text/x-python",
   "name": "python",
   "nbconvert_exporter": "python",
   "pygments_lexer": "ipython3",
   "version": "3.11.4"
  },
  "orig_nbformat": 4
 },
 "nbformat": 4,
 "nbformat_minor": 2
}
